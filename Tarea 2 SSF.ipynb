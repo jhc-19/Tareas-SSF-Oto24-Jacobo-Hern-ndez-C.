{
  "metadata": {
    "kernelspec": {
      "name": "python",
      "display_name": "Python (Pyodide)",
      "language": "python"
    },
    "language_info": {
      "codemirror_mode": {
        "name": "python",
        "version": 3
      },
      "file_extension": ".py",
      "mimetype": "text/x-python",
      "name": "python",
      "nbconvert_exporter": "python",
      "pygments_lexer": "ipython3",
      "version": "3.8"
    }
  },
  "nbformat_minor": 4,
  "nbformat": 4,
  "cells": [
    {
      "cell_type": "code",
      "source": "import numpy as np \nimport matplotlib.pyplot as plt\nimport math as mt\nimport sympy as sp",
      "metadata": {
        "trusted": true
      },
      "outputs": [],
      "execution_count": 1
    },
    {
      "cell_type": "code",
      "source": "#Integracion numerica\n#a) usando regla del trapecio con los intervalos dados 6, 15.",
      "metadata": {
        "trusted": true
      },
      "outputs": [],
      "execution_count": 2
    },
    {
      "cell_type": "code",
      "source": "$$ \\text\\int_{-1}^{1} \\frac{1}{\\sqrt 2\\pi}e\\frac{-x^{2}}{2}dx $$",
      "metadata": {
        "trusted": true
      },
      "outputs": [
        {
          "ename": "<class 'SyntaxError'>",
          "evalue": "invalid syntax (<ipython-input-5-b753eb9367c6>, line 1)",
          "traceback": [
            "\u001b[0;36m  Cell \u001b[0;32mIn[5], line 1\u001b[0;36m\u001b[0m\n\u001b[0;31m    $$ \\text\\int_{-1}^{1} \\frac{1}{\\sqrt 2\\pi}e\\frac{-x^{2}}{2}dx $$\u001b[0m\n\u001b[0m    ^\u001b[0m\n\u001b[0;31mSyntaxError\u001b[0m\u001b[0;31m:\u001b[0m invalid syntax\n"
          ],
          "output_type": "error"
        }
      ],
      "execution_count": 5
    },
    {
      "cell_type": "code",
      "source": "#Definición de funcion para el ejercicio 1\ndef fx(x):\n    funcion = (1/(mt.sqrt(2*mt.pi)))*(mt.exp((-x**2)/2))\n    return funcion ",
      "metadata": {
        "trusted": true
      },
      "outputs": [],
      "execution_count": 9
    },
    {
      "cell_type": "code",
      "source": "# para a) Definimos la funcion que corresponde a la regla del trapecio \ndef trape(a,b,n,fun,valor_teorizado): #a,b son los limites de integracion, n numero de intervalos,fu la funcion a integrar \n    suma = []\n    intervalo = np.linspace(a,b,n+1)\n    suma.append(float(fun(intervalo[0])))\n    suma.append(float(fun(intervalo[-1])))\n    h = (b-a)/n\n    for i in (intervalo[1:-1]):\n        suma.append(2*fun(float(i)))\n    resultado = (h/2)*np.sum(suma)\n    error = abs((resultado - valor_teorizado)/valor_teorizado)\n    return float(resultado) , float(error)",
      "metadata": {
        "trusted": true
      },
      "outputs": [],
      "execution_count": 11
    },
    {
      "cell_type": "code",
      "source": "## b) Simpson\n",
      "metadata": {
        "trusted": true
      },
      "outputs": [],
      "execution_count": 12
    },
    {
      "cell_type": "code",
      "source": "def simpson(a,b,n,fun,valor_teorizado):    \n    h = (b - a) / n\n    intervalo = np.linspace(a, b, n + 1)\n    fun = np.vectorize(fun)\n    S = fun(intervalo[0]) + fun(intervalo[-1]) + 4 * np.sum(fun(intervalo[1:-1:2])) + 2 * np.sum(fun(intervalo[2:-2:2]))\n    #intervalo[1:-1:2] representa los pares y intervalo[2:-2:2] los impares \n    resultado_s = (h / 3) * S\n    error = abs((resultado_s - valor_teorizado)/valor_teorizado)\n    return float(resultado_s) , float(error)\n    ",
      "metadata": {
        "trusted": true
      },
      "outputs": [],
      "execution_count": 13
    },
    {
      "cell_type": "code",
      "source": "## c) Gauss-Legendre ",
      "metadata": {
        "trusted": true
      },
      "outputs": [],
      "execution_count": 14
    },
    {
      "cell_type": "code",
      "source": "\ndef gauss_legendre(a,b,n,fun,valor_teorico):\n    xi, wi = np.polynomial.legendre.leggauss(n) #obtenemos los puntos y pesos de gauss legendre par n \n    entrada = (xi/2)*(b-a) + ((b+a)/2)\n    fun = np.vectorize(fun) #vectorizamos la funcion \n    resultado_gl = ((b-a)/2) * np.sum(wi * fun(entrada))\n    error = abs((resultado_gl - valor_teorico)/valor_teorico)\n    return float(resultado_gl) , float(error)\n    ",
      "metadata": {
        "trusted": true
      },
      "outputs": [],
      "execution_count": 15
    },
    {
      "cell_type": "code",
      "source": "print (f\"Metodo del trapecio: 6 subintervalos con resultado y error relativo es {trape(-1,1,6,fx,0.6826894921)} \" )\nprint (f\"Metodo del trapecio: 15 subintervalos el resultado y error relativo es {trape(-1,1,15,fx,0.6826894921)}\" )\nprint (f\"Metodo del trapecio: 50000 subintervalos el resultado es {trape(-1,1,50000,fx,0.6826894921)}\" )\n\nprint (f\"Metodo de Simpson: 6 inervalos el resultado es y error relativo es  {simpson(-1, 1, 6,fx,0.6826894921)}\")\nprint (f\"Metodo de Simpson: 15 inervalos el rresultado y error relativo es{simpson(-1, 1, 15,fx,0.6826894921)}\")\nprint (f\"Metodo de Simpson: 50000 inervalos el resultado y error relativo es{simpson(-1, 1, 50000,fx,0.6826894921)}\")\n\nprint (f\"Gauss Legendre: 6 inervalos el resultado y error relativo es{gauss_legendre(-1, 1, 6,fx,0.6826894921)}\")\nprint (f\"Gauss Legendre: 15 inervalos el resultado y error relativo es{gauss_legendre(-1, 1, 15,fx,0.6826894921)}\")\nprint (f\"Gauss Legendre: 50000 inervalos el resultado y error relativo es{gauss_legendre(-1, 1, 5000,fx,0.6826894921)}\")\n",
      "metadata": {
        "trusted": true
      },
      "outputs": [
        {
          "name": "stdout",
          "text": "Metodo del trapecio: 6 subintervalos con resultado y error relativo es (0.6781918237837555, 0.006588161042891245) \nMetodo del trapecio: 15 subintervalos el resultado y error relativo es (0.6819721164424766, 0.0010508081138274037)\nMetodo del trapecio: 50000 subintervalos el resultado es (0.6826894920725605, 4.0193229041965117e-11)\nMetodo de Simpson: 6 inervalos el resultado es y error relativo es  (0.6827586139549787, 0.00010124933191242798)\nMetodo de Simpson: 15 inervalos el rresultado y error relativo es(0.6468590649174456, 0.05248422247182609)\nMetodo de Simpson: 50000 inervalos el resultado y error relativo es(0.6826894921370861, 5.43235429698855e-11)\nGauss Legendre: 6 inervalos el resultado y error relativo es(0.6826894870533857, 7.3922541594862306e-09)\nGauss Legendre: 15 inervalos el resultado y error relativo es(0.6826894921370855, 5.432272984544351e-11)\nGauss Legendre: 50000 inervalos el resultado y error relativo es(0.6826894921371285, 5.438566567725312e-11)\n",
          "output_type": "stream"
        }
      ],
      "execution_count": 16
    },
    {
      "cell_type": "code",
      "source": "### Ejercicio 2, integrar numéricamente.",
      "metadata": {
        "trusted": true
      },
      "outputs": [],
      "execution_count": null
    },
    {
      "cell_type": "code",
      "source": "def fx2(y):\n    funcion_2 = (mt.exp(y)*mt.sin(y))/(1+y**2)\n    return funcion_2",
      "metadata": {
        "trusted": true
      },
      "outputs": [],
      "execution_count": 17
    },
    {
      "cell_type": "code",
      "source": "print (f\"Metodo del trapecio: 6 subintervalos con resultado y error relativo es {trape(0,3,6,fx2,2.88164)} \" )\nprint (f\"Metodo del trapecio: 15 subintervalos el resultado y error relativo es {trape(0,3,15,fx2,2.88164)}\" )\nprint (f\"Metodo del trapecio: 50000 subintervalos el resultado es {trape(0,3,20,fx2,2.88164)}\" )\n\nprint (f\"Metodo de Simpson: 6 inervalos el resultado es y error relativo es  {simpson(0,3, 6,fx2,2.88164)}\")\nprint (f\"Metodo de Simpson: 15 inervalos el rresultado y error relativo es{simpson(0,3, 15,fx2,2.88164)}\")\nprint (f\"Metodo de Simpson: 50000 inervalos el resultado y error relativo es{simpson(0,3, 20,fx2,2.88164)}\")\n\nprint (f\"Gauss Legendre: 6 inervalos el resultado y error relativo es{gauss_legendre(0,3, 6,fx2,2.88164)}\")\nprint (f\"Gauss Legendre: 15 inervalos el resultado y error relativo es{gauss_legendre(0,3, 15,fx2,2.88164)}\")\nprint (f\"Gauss Legendre: 50000 inervalos el resultado y error relativo es{gauss_legendre(0,3, 20,fx2,2.88164)}\")\n",
      "metadata": {
        "trusted": true
      },
      "outputs": [
        {
          "name": "stdout",
          "text": "Metodo del trapecio: 6 subintervalos con resultado y error relativo es (2.821344182720175, 0.020924132535578746) \nMetodo del trapecio: 15 subintervalos el resultado y error relativo es (2.872045104150456, 0.003329664999633459)\nMetodo del trapecio: 50000 subintervalos el resultado es (2.8762438146076046, 0.0018726091366011687)\nMetodo de Simpson: 6 inervalos el resultado es y error relativo es  (2.8854018637270924, 0.0013054592964743751)\nMetodo de Simpson: 15 inervalos el rresultado y error relativo es(2.767194601130425, 0.03971537002178449)\nMetodo de Simpson: 50000 inervalos el resultado y error relativo es(2.881648560171607, 2.9705902219250853e-06)\nGauss Legendre: 6 inervalos el resultado y error relativo es(2.8816429377926123, 1.0194863384356717e-06)\nGauss Legendre: 15 inervalos el resultado y error relativo es(2.881637273033885, 9.46324355277128e-07)\nGauss Legendre: 50000 inervalos el resultado y error relativo es(2.881637273055186, 9.463169632423702e-07)\n",
          "output_type": "stream"
        }
      ],
      "execution_count": 18
    },
    {
      "cell_type": "code",
      "source": "### Ejercicio 3, considerando los límites (-2,0)",
      "metadata": {
        "trusted": true
      },
      "outputs": [],
      "execution_count": null
    },
    {
      "cell_type": "code",
      "source": "print (f\"Metodo del trapecio: 6 subintervalos con resultado y error relativo es {trape(-2,0,6,fx2,-0.256471)} \" )\nprint (f\"Metodo del trapecio: 15 subintervalos el resultado y error relativo es {trape(-2,0,15,fx2,-0.256471)}\" )\nprint (f\"Metodo de Simpson: 50000 inervalos el resultado y error relativo es {trape(-2,0,20,fx2,-0.256471)}\" )\n\nprint (f\"Metodo de Simpson: 6 inervalos el resultado es y error relativo es {simpson(-2,0, 6,fx2,-0.256471)}\")\nprint (f\"Metodo de Simpson: 15 inervalos el rresultado y error relativo es{simpson(-2,0, 15,fx2,-0.256471)}\")\nprint (f\"Para el metodo de Simpson con 20 inervalos el resultado y error relativo es{simpson(-2,0, 20,fx2,-0.256471)}\")\n\nprint (f\"Gauss Legendre: 6 inervalos el resultado y error relativo es{gauss_legendre(-2,0, 6,fx2,-0.256471)}\")\nprint (f\"Gauss Legendre: 15 inervalos el resultado y error relativo es{gauss_legendre(-2,0, 15,fx2,-0.256471)}\")\nprint (f\"Gauss Legendre: 20 inervalos el resultado y error relativo es{gauss_legendre(-2,0, 20,fx2,-0.256471)}\")\n",
      "metadata": {
        "trusted": true
      },
      "outputs": [
        {
          "name": "stdout",
          "text": "Metodo del trapecio: 6 subintervalos con resultado y error relativo es (-0.24662685301874357, 0.038383080275182904) \nMetodo del trapecio: 15 subintervalos el resultado y error relativo es (-0.2549050624716035, 0.0061057099180668005)\nMetodo de Simpson: 50000 inervalos el resultado y error relativo es (-0.25559039224119967, 0.003433556849703606)\nMetodo de Simpson: 6 inervalos el resultado es y error relativo es (-0.2567618032092215, 0.0011338639036050065)\nMetodo de Simpson: 15 inervalos el rresultado y error relativo es(-0.24333539015090008, 0.05121674516456021)\nPara el metodo de Simpson con 20 inervalos el resultado y error relativo es(-0.25647275853630713, 6.8566672533276235e-06)\nGauss Legendre: 6 inervalos el resultado y error relativo es(-0.2564723282471044, 5.1789368170871086e-06)\nGauss Legendre: 15 inervalos el resultado y error relativo es(-0.25647056733604234, 1.6869897869984654e-06)\nGauss Legendre: 20 inervalos el resultado y error relativo es(-0.2564705673360303, 1.6869898339664258e-06)\n",
          "output_type": "stream"
        }
      ],
      "execution_count": 24
    },
    {
      "cell_type": "code",
      "source": "### Integrar numéricamente",
      "metadata": {
        "trusted": true
      },
      "outputs": [],
      "execution_count": 20
    },
    {
      "cell_type": "code",
      "source": "#Definición de funciones \ndef fx3(x):\n    return mt.exp(x)/x\n\ndef fx4(x):\n    return (1-mt.exp(x))/x",
      "metadata": {
        "trusted": true
      },
      "outputs": [],
      "execution_count": 25
    },
    {
      "cell_type": "code",
      "source": "print(f\"Resultado (Gauss-Legendre) \")",
      "metadata": {
        "trusted": true
      },
      "outputs": [
        {
          "name": "stdout",
          "text": "Resultado (Gauss-Legendre) \n",
          "output_type": "stream"
        }
      ],
      "execution_count": 26
    }
  ]
}