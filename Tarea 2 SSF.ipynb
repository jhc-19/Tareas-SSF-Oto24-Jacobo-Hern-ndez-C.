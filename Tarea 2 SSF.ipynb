{
  "metadata": {
    "kernelspec": {
      "name": "python",
      "display_name": "Python (Pyodide)",
      "language": "python"
    },
    "language_info": {
      "codemirror_mode": {
        "name": "python",
        "version": 3
      },
      "file_extension": ".py",
      "mimetype": "text/x-python",
      "name": "python",
      "nbconvert_exporter": "python",
      "pygments_lexer": "ipython3",
      "version": "3.8"
    }
  },
  "nbformat_minor": 4,
  "nbformat": 4,
  "cells": [
    {
      "cell_type": "code",
      "source": "import math as mt\nimport pandas as pd\nimport numpy as np\nimport matplotlib.pyplot as plt\nfrom __future__ import print_function,division",
      "metadata": {
        "trusted": true
      },
      "outputs": [
        {
          "name": "stderr",
          "text": "<ipython-input-1-a0ca6b5601f2>:2: DeprecationWarning: \nPyarrow will become a required dependency of pandas in the next major release of pandas (pandas 3.0),\n(to allow more performant data types, such as the Arrow string type, and better interoperability with other libraries)\nbut was not found to be installed on your system.\nIf this would cause problems for you,\nplease provide us feedback at https://github.com/pandas-dev/pandas/issues/54466\n        \n  import pandas as pd\n",
          "output_type": "stream"
        }
      ],
      "execution_count": 1
    },
    {
      "cell_type": "code",
      "source": "def evalupoly(coeff,x):\n    acc = 0 \n    for i,a in enumerate(coeff): #Esta funcion da el indice y el numero de ese indice \n        acc += (x**i)*a #i = 0,1,2... y a es igual los valores \n    return acc",
      "metadata": {
        "trusted": true
      },
      "outputs": [],
      "execution_count": 2
    },
    {
      "cell_type": "code",
      "source": "evalupoly((-1,2,2,3,1),2)",
      "metadata": {
        "trusted": true
      },
      "outputs": [
        {
          "execution_count": 3,
          "output_type": "execute_result",
          "data": {
            "text/plain": "51"
          },
          "metadata": {}
        }
      ],
      "execution_count": 3
    },
    {
      "cell_type": "code",
      "source": "###Ejemplo 2, iterativo.\n",
      "metadata": {
        "trusted": true
      },
      "outputs": [],
      "execution_count": 4
    },
    {
      "cell_type": "code",
      "source": "def poly_iter(A, x):\n    p = 0 #Para las variables \n    xn = 1\n    for a in A: #A representa los coeficientes \n        p += xn * a # primer coeficiente \n        xn *= x #generador de los exponentes \n    return p",
      "metadata": {
        "trusted": true
      },
      "outputs": [],
      "execution_count": 5
    },
    {
      "cell_type": "code",
      "source": "#ejemplo 3, horner.py",
      "metadata": {
        "trusted": true
      },
      "outputs": [],
      "execution_count": 6
    },
    {
      "cell_type": "code",
      "source": "def poly_horner(A, x): # A coeficiente en forma de lista []\n    p = A[-1] #A[-1] es para que vaya del ultimo al primero \n    i = len(A) - 2 #len es para dar el tamaño de A \n    while i >= 0:\n        p = p * x + A[i]\n        i -= 1\n    return p",
      "metadata": {
        "trusted": true
      },
      "outputs": [],
      "execution_count": 7
    },
    {
      "cell_type": "code",
      "source": "poly_horner((-1,2,2,3,1),2)",
      "metadata": {
        "trusted": true
      },
      "outputs": [
        {
          "execution_count": 8,
          "output_type": "execute_result",
          "data": {
            "text/plain": "51"
          },
          "metadata": {}
        }
      ],
      "execution_count": 8
    },
    {
      "cell_type": "code",
      "source": "#Funciones de coseno en series de potencia",
      "metadata": {
        "trusted": true
      },
      "outputs": [],
      "execution_count": 9
    },
    {
      "cell_type": "code",
      "source": "def cos(x,k):\n    valor = 0\n    A = []\n    for i in range(k+1):\n      p = (((-1)**i) * x**(2*i))/(mt.factorial(2*i))\n      valor = valor + p \n    return (valor)",
      "metadata": {
        "trusted": true
      },
      "outputs": [],
      "execution_count": 10
    },
    {
      "cell_type": "code",
      "source": "cos(7,1700)",
      "metadata": {
        "trusted": true
      },
      "outputs": [
        {
          "execution_count": 11,
          "output_type": "execute_result",
          "data": {
            "text/plain": "0.7539022543432953"
          },
          "metadata": {}
        }
      ],
      "execution_count": 11
    },
    {
      "cell_type": "code",
      "source": "iteraciones = [10,20,50,100,1000]\nvalores_x = [0,5,8,16,32,60,80,100]",
      "metadata": {
        "trusted": true
      },
      "outputs": [],
      "execution_count": 12
    },
    {
      "cell_type": "code",
      "source": "def tabla(a,b):\n   val_x = [] \n   itera = []\n   val_cos = []\n   error_re = []\n   cos_v = []\n   for i in (a):\n    for j in (b):\n        val_x.append(i)\n        itera.append(j)\n        val_cos.append(cos(i,j))\n        error_re.append((cos(i,j) - mt.cos(i))/mt.cos(i))\n        cos_v.append(mt.cos(i))\n        tabla = np.column_stack((val_x, itera,val_cos,cos_v,error_re))\n        tabla_res = pd.DataFrame(tabla,columns=['X','iteraciones','sumatoria',\"suma-cos\",'Error'])\n    \n   \n   \n   return tabla_res",
      "metadata": {
        "trusted": true
      },
      "outputs": [],
      "execution_count": 13
    },
    {
      "cell_type": "code",
      "source": "tabla(valores_x,iteraciones)\n# ",
      "metadata": {
        "trusted": true
      },
      "outputs": [
        {
          "execution_count": 14,
          "output_type": "execute_result",
          "data": {
            "text/plain": "        X  iteraciones     sumatoria  suma-cos         Error\n0     0.0         10.0  1.000000e+00  1.000000  0.000000e+00\n1     0.0         20.0  1.000000e+00  1.000000  0.000000e+00\n2     0.0         50.0  1.000000e+00  1.000000  0.000000e+00\n3     0.0        100.0  1.000000e+00  1.000000  0.000000e+00\n4     0.0       1000.0  1.000000e+00  1.000000  0.000000e+00\n5     5.0         10.0  2.836642e-01  0.283662  7.151709e-06\n6     5.0         20.0  2.836622e-01  0.283662  1.761251e-15\n7     5.0         50.0  2.836622e-01  0.283662  1.761251e-15\n8     5.0        100.0  2.836622e-01  0.283662  1.761251e-15\n9     5.0       1000.0  2.836622e-01  0.283662  1.761251e-15\n10    8.0         10.0 -8.677416e-02 -0.145500 -4.036141e-01\n11    8.0         20.0 -1.455000e-01 -0.145500 -4.784259e-13\n12    8.0         50.0 -1.455000e-01 -0.145500 -7.611321e-14\n13    8.0        100.0 -1.455000e-01 -0.145500 -7.611321e-14\n14    8.0       1000.0 -1.455000e-01 -0.145500 -7.611321e-14\n15   16.0         10.0  1.848709e+05 -0.957659 -1.930455e+05\n16   16.0         20.0 -7.233984e-01 -0.957659 -2.446183e-01\n17   16.0         50.0 -9.576595e-01 -0.957659 -1.164118e-10\n18   16.0        100.0 -9.576595e-01 -0.957659 -1.164118e-10\n19   16.0       1000.0 -9.576595e-01 -0.957659 -1.164118e-10\n20   32.0         10.0  3.740488e+11  0.834223  4.483797e+11\n21   32.0         20.0  7.511996e+11  0.834223  9.004777e+11\n22   32.0         50.0  8.339676e-01  0.834223 -3.066086e-04\n23   32.0        100.0  8.339676e-01  0.834223 -3.066124e-04\n24   32.0       1000.0  8.339676e-01  0.834223 -3.066124e-04\n25   60.0         10.0  1.356797e+17 -0.952413 -1.424589e+17\n26   60.0         20.0  1.132192e+23 -0.952413 -1.188761e+23\n27   60.0         50.0  1.826468e+19 -0.952413 -1.917727e+19\n28   60.0        100.0  1.596800e+09 -0.952413 -1.676584e+09\n29   60.0       1000.0  1.596800e+09 -0.952413 -1.676584e+09\n30   80.0         10.0  4.470466e+19 -0.110387 -4.049803e+20\n31   80.0         20.0  1.304690e+28 -0.110387 -1.181921e+29\n32   80.0         50.0  8.442218e+31 -0.110387 -7.647820e+32\n33   80.0        100.0 -8.643526e+16 -0.110387  7.830186e+17\n34   80.0       1000.0 -8.643526e+16 -0.110387  7.830186e+17\n35  100.0         10.0  3.958792e+21  0.862319  4.590868e+21\n36  100.0         20.0  1.058262e+32  0.862319  1.227228e+32\n37  100.0         50.0  5.330353e+41  0.862319  6.181417e+41\n38  100.0        100.0 -3.771888e+25  0.862319 -4.374122e+25\n39  100.0       1000.0 -4.023252e+25  0.862319 -4.665620e+25",
            "text/html": "<div>\n<style scoped>\n    .dataframe tbody tr th:only-of-type {\n        vertical-align: middle;\n    }\n\n    .dataframe tbody tr th {\n        vertical-align: top;\n    }\n\n    .dataframe thead th {\n        text-align: right;\n    }\n</style>\n<table border=\"1\" class=\"dataframe\">\n  <thead>\n    <tr style=\"text-align: right;\">\n      <th></th>\n      <th>X</th>\n      <th>iteraciones</th>\n      <th>sumatoria</th>\n      <th>suma-cos</th>\n      <th>Error</th>\n    </tr>\n  </thead>\n  <tbody>\n    <tr>\n      <th>0</th>\n      <td>0.0</td>\n      <td>10.0</td>\n      <td>1.000000e+00</td>\n      <td>1.000000</td>\n      <td>0.000000e+00</td>\n    </tr>\n    <tr>\n      <th>1</th>\n      <td>0.0</td>\n      <td>20.0</td>\n      <td>1.000000e+00</td>\n      <td>1.000000</td>\n      <td>0.000000e+00</td>\n    </tr>\n    <tr>\n      <th>2</th>\n      <td>0.0</td>\n      <td>50.0</td>\n      <td>1.000000e+00</td>\n      <td>1.000000</td>\n      <td>0.000000e+00</td>\n    </tr>\n    <tr>\n      <th>3</th>\n      <td>0.0</td>\n      <td>100.0</td>\n      <td>1.000000e+00</td>\n      <td>1.000000</td>\n      <td>0.000000e+00</td>\n    </tr>\n    <tr>\n      <th>4</th>\n      <td>0.0</td>\n      <td>1000.0</td>\n      <td>1.000000e+00</td>\n      <td>1.000000</td>\n      <td>0.000000e+00</td>\n    </tr>\n    <tr>\n      <th>5</th>\n      <td>5.0</td>\n      <td>10.0</td>\n      <td>2.836642e-01</td>\n      <td>0.283662</td>\n      <td>7.151709e-06</td>\n    </tr>\n    <tr>\n      <th>6</th>\n      <td>5.0</td>\n      <td>20.0</td>\n      <td>2.836622e-01</td>\n      <td>0.283662</td>\n      <td>1.761251e-15</td>\n    </tr>\n    <tr>\n      <th>7</th>\n      <td>5.0</td>\n      <td>50.0</td>\n      <td>2.836622e-01</td>\n      <td>0.283662</td>\n      <td>1.761251e-15</td>\n    </tr>\n    <tr>\n      <th>8</th>\n      <td>5.0</td>\n      <td>100.0</td>\n      <td>2.836622e-01</td>\n      <td>0.283662</td>\n      <td>1.761251e-15</td>\n    </tr>\n    <tr>\n      <th>9</th>\n      <td>5.0</td>\n      <td>1000.0</td>\n      <td>2.836622e-01</td>\n      <td>0.283662</td>\n      <td>1.761251e-15</td>\n    </tr>\n    <tr>\n      <th>10</th>\n      <td>8.0</td>\n      <td>10.0</td>\n      <td>-8.677416e-02</td>\n      <td>-0.145500</td>\n      <td>-4.036141e-01</td>\n    </tr>\n    <tr>\n      <th>11</th>\n      <td>8.0</td>\n      <td>20.0</td>\n      <td>-1.455000e-01</td>\n      <td>-0.145500</td>\n      <td>-4.784259e-13</td>\n    </tr>\n    <tr>\n      <th>12</th>\n      <td>8.0</td>\n      <td>50.0</td>\n      <td>-1.455000e-01</td>\n      <td>-0.145500</td>\n      <td>-7.611321e-14</td>\n    </tr>\n    <tr>\n      <th>13</th>\n      <td>8.0</td>\n      <td>100.0</td>\n      <td>-1.455000e-01</td>\n      <td>-0.145500</td>\n      <td>-7.611321e-14</td>\n    </tr>\n    <tr>\n      <th>14</th>\n      <td>8.0</td>\n      <td>1000.0</td>\n      <td>-1.455000e-01</td>\n      <td>-0.145500</td>\n      <td>-7.611321e-14</td>\n    </tr>\n    <tr>\n      <th>15</th>\n      <td>16.0</td>\n      <td>10.0</td>\n      <td>1.848709e+05</td>\n      <td>-0.957659</td>\n      <td>-1.930455e+05</td>\n    </tr>\n    <tr>\n      <th>16</th>\n      <td>16.0</td>\n      <td>20.0</td>\n      <td>-7.233984e-01</td>\n      <td>-0.957659</td>\n      <td>-2.446183e-01</td>\n    </tr>\n    <tr>\n      <th>17</th>\n      <td>16.0</td>\n      <td>50.0</td>\n      <td>-9.576595e-01</td>\n      <td>-0.957659</td>\n      <td>-1.164118e-10</td>\n    </tr>\n    <tr>\n      <th>18</th>\n      <td>16.0</td>\n      <td>100.0</td>\n      <td>-9.576595e-01</td>\n      <td>-0.957659</td>\n      <td>-1.164118e-10</td>\n    </tr>\n    <tr>\n      <th>19</th>\n      <td>16.0</td>\n      <td>1000.0</td>\n      <td>-9.576595e-01</td>\n      <td>-0.957659</td>\n      <td>-1.164118e-10</td>\n    </tr>\n    <tr>\n      <th>20</th>\n      <td>32.0</td>\n      <td>10.0</td>\n      <td>3.740488e+11</td>\n      <td>0.834223</td>\n      <td>4.483797e+11</td>\n    </tr>\n    <tr>\n      <th>21</th>\n      <td>32.0</td>\n      <td>20.0</td>\n      <td>7.511996e+11</td>\n      <td>0.834223</td>\n      <td>9.004777e+11</td>\n    </tr>\n    <tr>\n      <th>22</th>\n      <td>32.0</td>\n      <td>50.0</td>\n      <td>8.339676e-01</td>\n      <td>0.834223</td>\n      <td>-3.066086e-04</td>\n    </tr>\n    <tr>\n      <th>23</th>\n      <td>32.0</td>\n      <td>100.0</td>\n      <td>8.339676e-01</td>\n      <td>0.834223</td>\n      <td>-3.066124e-04</td>\n    </tr>\n    <tr>\n      <th>24</th>\n      <td>32.0</td>\n      <td>1000.0</td>\n      <td>8.339676e-01</td>\n      <td>0.834223</td>\n      <td>-3.066124e-04</td>\n    </tr>\n    <tr>\n      <th>25</th>\n      <td>60.0</td>\n      <td>10.0</td>\n      <td>1.356797e+17</td>\n      <td>-0.952413</td>\n      <td>-1.424589e+17</td>\n    </tr>\n    <tr>\n      <th>26</th>\n      <td>60.0</td>\n      <td>20.0</td>\n      <td>1.132192e+23</td>\n      <td>-0.952413</td>\n      <td>-1.188761e+23</td>\n    </tr>\n    <tr>\n      <th>27</th>\n      <td>60.0</td>\n      <td>50.0</td>\n      <td>1.826468e+19</td>\n      <td>-0.952413</td>\n      <td>-1.917727e+19</td>\n    </tr>\n    <tr>\n      <th>28</th>\n      <td>60.0</td>\n      <td>100.0</td>\n      <td>1.596800e+09</td>\n      <td>-0.952413</td>\n      <td>-1.676584e+09</td>\n    </tr>\n    <tr>\n      <th>29</th>\n      <td>60.0</td>\n      <td>1000.0</td>\n      <td>1.596800e+09</td>\n      <td>-0.952413</td>\n      <td>-1.676584e+09</td>\n    </tr>\n    <tr>\n      <th>30</th>\n      <td>80.0</td>\n      <td>10.0</td>\n      <td>4.470466e+19</td>\n      <td>-0.110387</td>\n      <td>-4.049803e+20</td>\n    </tr>\n    <tr>\n      <th>31</th>\n      <td>80.0</td>\n      <td>20.0</td>\n      <td>1.304690e+28</td>\n      <td>-0.110387</td>\n      <td>-1.181921e+29</td>\n    </tr>\n    <tr>\n      <th>32</th>\n      <td>80.0</td>\n      <td>50.0</td>\n      <td>8.442218e+31</td>\n      <td>-0.110387</td>\n      <td>-7.647820e+32</td>\n    </tr>\n    <tr>\n      <th>33</th>\n      <td>80.0</td>\n      <td>100.0</td>\n      <td>-8.643526e+16</td>\n      <td>-0.110387</td>\n      <td>7.830186e+17</td>\n    </tr>\n    <tr>\n      <th>34</th>\n      <td>80.0</td>\n      <td>1000.0</td>\n      <td>-8.643526e+16</td>\n      <td>-0.110387</td>\n      <td>7.830186e+17</td>\n    </tr>\n    <tr>\n      <th>35</th>\n      <td>100.0</td>\n      <td>10.0</td>\n      <td>3.958792e+21</td>\n      <td>0.862319</td>\n      <td>4.590868e+21</td>\n    </tr>\n    <tr>\n      <th>36</th>\n      <td>100.0</td>\n      <td>20.0</td>\n      <td>1.058262e+32</td>\n      <td>0.862319</td>\n      <td>1.227228e+32</td>\n    </tr>\n    <tr>\n      <th>37</th>\n      <td>100.0</td>\n      <td>50.0</td>\n      <td>5.330353e+41</td>\n      <td>0.862319</td>\n      <td>6.181417e+41</td>\n    </tr>\n    <tr>\n      <th>38</th>\n      <td>100.0</td>\n      <td>100.0</td>\n      <td>-3.771888e+25</td>\n      <td>0.862319</td>\n      <td>-4.374122e+25</td>\n    </tr>\n    <tr>\n      <th>39</th>\n      <td>100.0</td>\n      <td>1000.0</td>\n      <td>-4.023252e+25</td>\n      <td>0.862319</td>\n      <td>-4.665620e+25</td>\n    </tr>\n  </tbody>\n</table>\n</div>"
          },
          "metadata": {}
        }
      ],
      "execution_count": 14
    },
    {
      "cell_type": "code",
      "source": "# c) Datos de estrellas:",
      "metadata": {
        "trusted": true
      },
      "outputs": [],
      "execution_count": 15
    },
    {
      "cell_type": "code",
      "source": "from pylab import scatter,xlabel,ylabel,xlim,ylim, show\nimport numpy as np\nfrom numpy import loadtxt\n\ndata = loadtxt(\"stars.data.dat\",float)\nx = data[:,0]\ny = data[:,1]\n\nscatter(x,y)\nxlabel(\"Temperatura\")\nylabel(\"Magnitud\")\nxlim(0,12000)\nylim(-5,25)\nshow()",
      "metadata": {
        "trusted": true
      },
      "outputs": [
        {
          "ename": "<class 'FileNotFoundError'>",
          "evalue": "stars.data.dat not found.",
          "traceback": [
            "\u001b[0;31m---------------------------------------------------------------------------\u001b[0m",
            "\u001b[0;31mFileNotFoundError\u001b[0m                         Traceback (most recent call last)",
            "Cell \u001b[0;32mIn[16], line 5\u001b[0m\n\u001b[1;32m      2\u001b[0m \u001b[38;5;28;01mimport\u001b[39;00m \u001b[38;5;21;01mnumpy\u001b[39;00m \u001b[38;5;28;01mas\u001b[39;00m \u001b[38;5;21;01mnp\u001b[39;00m\n\u001b[1;32m      3\u001b[0m \u001b[38;5;28;01mfrom\u001b[39;00m \u001b[38;5;21;01mnumpy\u001b[39;00m \u001b[38;5;28;01mimport\u001b[39;00m loadtxt\n\u001b[0;32m----> 5\u001b[0m data \u001b[38;5;241m=\u001b[39m \u001b[43mloadtxt\u001b[49m\u001b[43m(\u001b[49m\u001b[38;5;124;43m\"\u001b[39;49m\u001b[38;5;124;43mstars.data.dat\u001b[39;49m\u001b[38;5;124;43m\"\u001b[39;49m\u001b[43m,\u001b[49m\u001b[38;5;28;43mfloat\u001b[39;49m\u001b[43m)\u001b[49m\n\u001b[1;32m      6\u001b[0m x \u001b[38;5;241m=\u001b[39m data[:,\u001b[38;5;241m0\u001b[39m]\n\u001b[1;32m      7\u001b[0m y \u001b[38;5;241m=\u001b[39m data[:,\u001b[38;5;241m1\u001b[39m]\n",
            "File \u001b[0;32m/lib/python3.12/site-packages/numpy/lib/npyio.py:1373\u001b[0m, in \u001b[0;36mloadtxt\u001b[0;34m(fname, dtype, comments, delimiter, converters, skiprows, usecols, unpack, ndmin, encoding, max_rows, quotechar, like)\u001b[0m\n\u001b[1;32m   1370\u001b[0m \u001b[38;5;28;01mif\u001b[39;00m \u001b[38;5;28misinstance\u001b[39m(delimiter, \u001b[38;5;28mbytes\u001b[39m):\n\u001b[1;32m   1371\u001b[0m     delimiter \u001b[38;5;241m=\u001b[39m delimiter\u001b[38;5;241m.\u001b[39mdecode(\u001b[38;5;124m'\u001b[39m\u001b[38;5;124mlatin1\u001b[39m\u001b[38;5;124m'\u001b[39m)\n\u001b[0;32m-> 1373\u001b[0m arr \u001b[38;5;241m=\u001b[39m \u001b[43m_read\u001b[49m\u001b[43m(\u001b[49m\u001b[43mfname\u001b[49m\u001b[43m,\u001b[49m\u001b[43m \u001b[49m\u001b[43mdtype\u001b[49m\u001b[38;5;241;43m=\u001b[39;49m\u001b[43mdtype\u001b[49m\u001b[43m,\u001b[49m\u001b[43m \u001b[49m\u001b[43mcomment\u001b[49m\u001b[38;5;241;43m=\u001b[39;49m\u001b[43mcomment\u001b[49m\u001b[43m,\u001b[49m\u001b[43m \u001b[49m\u001b[43mdelimiter\u001b[49m\u001b[38;5;241;43m=\u001b[39;49m\u001b[43mdelimiter\u001b[49m\u001b[43m,\u001b[49m\n\u001b[1;32m   1374\u001b[0m \u001b[43m            \u001b[49m\u001b[43mconverters\u001b[49m\u001b[38;5;241;43m=\u001b[39;49m\u001b[43mconverters\u001b[49m\u001b[43m,\u001b[49m\u001b[43m \u001b[49m\u001b[43mskiplines\u001b[49m\u001b[38;5;241;43m=\u001b[39;49m\u001b[43mskiprows\u001b[49m\u001b[43m,\u001b[49m\u001b[43m \u001b[49m\u001b[43musecols\u001b[49m\u001b[38;5;241;43m=\u001b[39;49m\u001b[43musecols\u001b[49m\u001b[43m,\u001b[49m\n\u001b[1;32m   1375\u001b[0m \u001b[43m            \u001b[49m\u001b[43munpack\u001b[49m\u001b[38;5;241;43m=\u001b[39;49m\u001b[43munpack\u001b[49m\u001b[43m,\u001b[49m\u001b[43m \u001b[49m\u001b[43mndmin\u001b[49m\u001b[38;5;241;43m=\u001b[39;49m\u001b[43mndmin\u001b[49m\u001b[43m,\u001b[49m\u001b[43m \u001b[49m\u001b[43mencoding\u001b[49m\u001b[38;5;241;43m=\u001b[39;49m\u001b[43mencoding\u001b[49m\u001b[43m,\u001b[49m\n\u001b[1;32m   1376\u001b[0m \u001b[43m            \u001b[49m\u001b[43mmax_rows\u001b[49m\u001b[38;5;241;43m=\u001b[39;49m\u001b[43mmax_rows\u001b[49m\u001b[43m,\u001b[49m\u001b[43m \u001b[49m\u001b[43mquote\u001b[49m\u001b[38;5;241;43m=\u001b[39;49m\u001b[43mquotechar\u001b[49m\u001b[43m)\u001b[49m\n\u001b[1;32m   1378\u001b[0m \u001b[38;5;28;01mreturn\u001b[39;00m arr\n",
            "File \u001b[0;32m/lib/python3.12/site-packages/numpy/lib/npyio.py:992\u001b[0m, in \u001b[0;36m_read\u001b[0;34m(fname, delimiter, comment, quote, imaginary_unit, usecols, skiplines, max_rows, converters, ndmin, unpack, dtype, encoding)\u001b[0m\n\u001b[1;32m    990\u001b[0m     fname \u001b[38;5;241m=\u001b[39m os\u001b[38;5;241m.\u001b[39mfspath(fname)\n\u001b[1;32m    991\u001b[0m \u001b[38;5;28;01mif\u001b[39;00m \u001b[38;5;28misinstance\u001b[39m(fname, \u001b[38;5;28mstr\u001b[39m):\n\u001b[0;32m--> 992\u001b[0m     fh \u001b[38;5;241m=\u001b[39m \u001b[43mnp\u001b[49m\u001b[38;5;241;43m.\u001b[39;49m\u001b[43mlib\u001b[49m\u001b[38;5;241;43m.\u001b[39;49m\u001b[43m_datasource\u001b[49m\u001b[38;5;241;43m.\u001b[39;49m\u001b[43mopen\u001b[49m\u001b[43m(\u001b[49m\u001b[43mfname\u001b[49m\u001b[43m,\u001b[49m\u001b[43m \u001b[49m\u001b[38;5;124;43m'\u001b[39;49m\u001b[38;5;124;43mrt\u001b[39;49m\u001b[38;5;124;43m'\u001b[39;49m\u001b[43m,\u001b[49m\u001b[43m \u001b[49m\u001b[43mencoding\u001b[49m\u001b[38;5;241;43m=\u001b[39;49m\u001b[43mencoding\u001b[49m\u001b[43m)\u001b[49m\n\u001b[1;32m    993\u001b[0m     \u001b[38;5;28;01mif\u001b[39;00m encoding \u001b[38;5;129;01mis\u001b[39;00m \u001b[38;5;28;01mNone\u001b[39;00m:\n\u001b[1;32m    994\u001b[0m         encoding \u001b[38;5;241m=\u001b[39m \u001b[38;5;28mgetattr\u001b[39m(fh, \u001b[38;5;124m'\u001b[39m\u001b[38;5;124mencoding\u001b[39m\u001b[38;5;124m'\u001b[39m, \u001b[38;5;124m'\u001b[39m\u001b[38;5;124mlatin1\u001b[39m\u001b[38;5;124m'\u001b[39m)\n",
            "File \u001b[0;32m/lib/python3.12/site-packages/numpy/lib/_datasource.py:193\u001b[0m, in \u001b[0;36mopen\u001b[0;34m(path, mode, destpath, encoding, newline)\u001b[0m\n\u001b[1;32m    156\u001b[0m \u001b[38;5;250m\u001b[39m\u001b[38;5;124;03m\"\"\"\u001b[39;00m\n\u001b[1;32m    157\u001b[0m \u001b[38;5;124;03mOpen `path` with `mode` and return the file object.\u001b[39;00m\n\u001b[1;32m    158\u001b[0m \n\u001b[0;32m   (...)\u001b[0m\n\u001b[1;32m    189\u001b[0m \n\u001b[1;32m    190\u001b[0m \u001b[38;5;124;03m\"\"\"\u001b[39;00m\n\u001b[1;32m    192\u001b[0m ds \u001b[38;5;241m=\u001b[39m DataSource(destpath)\n\u001b[0;32m--> 193\u001b[0m \u001b[38;5;28;01mreturn\u001b[39;00m \u001b[43mds\u001b[49m\u001b[38;5;241;43m.\u001b[39;49m\u001b[43mopen\u001b[49m\u001b[43m(\u001b[49m\u001b[43mpath\u001b[49m\u001b[43m,\u001b[49m\u001b[43m \u001b[49m\u001b[43mmode\u001b[49m\u001b[43m,\u001b[49m\u001b[43m \u001b[49m\u001b[43mencoding\u001b[49m\u001b[38;5;241;43m=\u001b[39;49m\u001b[43mencoding\u001b[49m\u001b[43m,\u001b[49m\u001b[43m \u001b[49m\u001b[43mnewline\u001b[49m\u001b[38;5;241;43m=\u001b[39;49m\u001b[43mnewline\u001b[49m\u001b[43m)\u001b[49m\n",
            "File \u001b[0;32m/lib/python3.12/site-packages/numpy/lib/_datasource.py:533\u001b[0m, in \u001b[0;36mDataSource.open\u001b[0;34m(self, path, mode, encoding, newline)\u001b[0m\n\u001b[1;32m    530\u001b[0m     \u001b[38;5;28;01mreturn\u001b[39;00m _file_openers[ext](found, mode\u001b[38;5;241m=\u001b[39mmode,\n\u001b[1;32m    531\u001b[0m                               encoding\u001b[38;5;241m=\u001b[39mencoding, newline\u001b[38;5;241m=\u001b[39mnewline)\n\u001b[1;32m    532\u001b[0m \u001b[38;5;28;01melse\u001b[39;00m:\n\u001b[0;32m--> 533\u001b[0m     \u001b[38;5;28;01mraise\u001b[39;00m \u001b[38;5;167;01mFileNotFoundError\u001b[39;00m(\u001b[38;5;124mf\u001b[39m\u001b[38;5;124m\"\u001b[39m\u001b[38;5;132;01m{\u001b[39;00mpath\u001b[38;5;132;01m}\u001b[39;00m\u001b[38;5;124m not found.\u001b[39m\u001b[38;5;124m\"\u001b[39m)\n",
            "\u001b[0;31mFileNotFoundError\u001b[0m: stars.data.dat not found."
          ],
          "output_type": "error"
        }
      ],
      "execution_count": 16
    },
    {
      "cell_type": "code",
      "source": "##Gráficos",
      "metadata": {
        "trusted": true
      },
      "outputs": [],
      "execution_count": 17
    },
    {
      "cell_type": "code",
      "source": "plt.scatter (x,y,c=\"yellow\")\nplt.grid(c=\"r\")\nplt.title(\"Stars\")\nxlabel(\"Temperature\")\nylabel(\"Magnitude\")\nplt.style.use('dark_background')",
      "metadata": {
        "trusted": true
      },
      "outputs": [
        {
          "ename": "<class 'NameError'>",
          "evalue": "name 'x' is not defined",
          "traceback": [
            "\u001b[0;31m---------------------------------------------------------------------------\u001b[0m",
            "\u001b[0;31mNameError\u001b[0m                                 Traceback (most recent call last)",
            "Cell \u001b[0;32mIn[22], line 1\u001b[0m\n\u001b[0;32m----> 1\u001b[0m plt\u001b[38;5;241m.\u001b[39mscatter (\u001b[43mx\u001b[49m,y,c\u001b[38;5;241m=\u001b[39m\u001b[38;5;124m\"\u001b[39m\u001b[38;5;124myellow\u001b[39m\u001b[38;5;124m\"\u001b[39m)\n\u001b[1;32m      2\u001b[0m plt\u001b[38;5;241m.\u001b[39mgrid(c\u001b[38;5;241m=\u001b[39m\u001b[38;5;124m\"\u001b[39m\u001b[38;5;124mr\u001b[39m\u001b[38;5;124m\"\u001b[39m)\n\u001b[1;32m      3\u001b[0m plt\u001b[38;5;241m.\u001b[39mtitle(\u001b[38;5;124m\"\u001b[39m\u001b[38;5;124mStars\u001b[39m\u001b[38;5;124m\"\u001b[39m)\n",
            "\u001b[0;31mNameError\u001b[0m: name 'x' is not defined"
          ],
          "output_type": "error"
        }
      ],
      "execution_count": 22
    },
    {
      "cell_type": "code",
      "source": "### Nota: No sé por qué no lee los datos, ya intenté de muchas formas, cambié su formato y pedí ayuda a gente que programa más que yo y nadie me pudo decir mucho, también intenté abriendo Jupyter desde ubuntu y no funcionó.",
      "metadata": {
        "trusted": true
      },
      "outputs": [],
      "execution_count": null
    },
    {
      "cell_type": "code",
      "source": "",
      "metadata": {
        "trusted": true
      },
      "outputs": [],
      "execution_count": null
    }
  ]
}
