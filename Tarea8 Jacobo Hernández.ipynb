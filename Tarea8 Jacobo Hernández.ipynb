{
  "nbformat": 4,
  "nbformat_minor": 0,
  "metadata": {
    "colab": {
      "provenance": [],
      "authorship_tag": "ABX9TyMJJn4YmBgBluKUwJTjhp0g",
      "include_colab_link": true
    },
    "kernelspec": {
      "name": "python3",
      "display_name": "Python 3"
    },
    "language_info": {
      "name": "python"
    }
  },
  "cells": [
    {
      "cell_type": "markdown",
      "metadata": {
        "id": "view-in-github",
        "colab_type": "text"
      },
      "source": [
        "<a href=\"https://colab.research.google.com/github/jhc-19/Tareas-SSF-Oto24-Jacobo-Hern-ndez-C./blob/main/Tarea8%20Jacobo%20Hern%C3%A1ndez.ipynb\" target=\"_parent\"><img src=\"https://colab.research.google.com/assets/colab-badge.svg\" alt=\"Open In Colab\"/></a>"
      ]
    },
    {
      "cell_type": "code",
      "source": [
        "import numpy as np\n",
        "import math as mt\n",
        "\n",
        "# --- Sección A: Cálculo de probabilidad de seleccionar 3 mujeres en un grupo de 40 estudiantes ---\n",
        "\n",
        "# Datos: 9 mujeres en un grupo de 40 estudiantes, seleccionando 3 estudiantes.\n",
        "# Utilizaremos combinaciones (coeficiente binomial) para calcular la probabilidad.\n",
        "\n",
        "# Calculamos el número total de formas de seleccionar 3 estudiantes de un grupo de 40.\n",
        "combinaciones_totales = mt.factorial(40) / (mt.factorial(3) * mt.factorial(37))\n",
        "\n",
        "# Calculamos las combinaciones favorables (seleccionar 3 mujeres de 9 disponibles).\n",
        "combinaciones_favorables = mt.factorial(9) / (mt.factorial(3) * mt.factorial(6))\n",
        "\n",
        "# Calculamos la probabilidad\n",
        "P = combinaciones_favorables / combinaciones_totales\n",
        "print(f\"La probabilidad de escoger a 3 mujeres es de {P:.6f}\")\n",
        "\n",
        "# --- Sección B: Cálculo del promedio y la varianza de calificaciones de una clase de 100 alumnos ---\n",
        "\n",
        "# Generamos calificaciones aleatorias entre 5 y 10 para 100 alumnos.\n",
        "calificaciones = np.random.randint(5, 11, size=100)\n",
        "\n",
        "# Calculamos el promedio y la varianza de las calificaciones\n",
        "print(f\"El promedio es de {np.mean(calificaciones):.2f}\")\n",
        "print(f\"La varianza es de {np.var(calificaciones):.2f}\")\n",
        "\n",
        "# --- Repetir el ejercicio para 10 clases (10 cursos) ---\n",
        "\n",
        "# Función para calcular promedio y varianza de un conjunto de calificaciones aleatorias\n",
        "def calcular_promedio_varianza(minimo, maximo, num_alumnos):\n",
        "    calificaciones = np.random.randint(minimo, maximo + 1, num_alumnos)\n",
        "    promedio = np.mean(calificaciones)\n",
        "    varianza = np.var(calificaciones)\n",
        "    return promedio, varianza\n",
        "\n",
        "# Almacenamos los resultados de los 10 experimentos\n",
        "promedios = []\n",
        "varianzas = []\n",
        "for i in range(10):\n",
        "    promedio, varianza = calcular_promedio_varianza(5, 10, 100)\n",
        "    promedios.append(promedio)\n",
        "    varianzas.append(varianza)\n",
        "    print(f\"Para el curso {i + 1}, el promedio es {promedio:.2f} y la varianza {varianza:.2f}\")\n",
        "\n",
        "# Sección C: Calcular el promedio y la desviación estándar de los resultados anteriores ---\n",
        "\n",
        "# Calculamos el promedio de los promedios\n",
        "promedio_total = np.mean(promedios)\n",
        "print(f\"El promedio de los promedios es {promedio_total:.2f}\")\n",
        "\n",
        "# Calculamos la desviación estándar de los promedios\n",
        "desviacion_estandar = np.std(promedios)\n",
        "print(f\"La desviación estándar de los promedios es {desviacion_estandar:.2f}\")\n"
      ],
      "metadata": {
        "colab": {
          "base_uri": "https://localhost:8080/"
        },
        "id": "Ip0hcFD3gh9e",
        "outputId": "70ec513c-3590-4f49-d98f-314a07df05e2"
      },
      "execution_count": 4,
      "outputs": [
        {
          "output_type": "stream",
          "name": "stdout",
          "text": [
            "La probabilidad de escoger a 3 mujeres es de 0.008502\n",
            "El promedio es de 7.57\n",
            "La varianza es de 2.71\n",
            "Para el curso 1, el promedio es 7.26 y la varianza 2.81\n",
            "Para el curso 2, el promedio es 7.67 y la varianza 3.26\n",
            "Para el curso 3, el promedio es 7.54 y la varianza 3.15\n",
            "Para el curso 4, el promedio es 7.55 y la varianza 3.75\n",
            "Para el curso 5, el promedio es 7.61 y la varianza 2.46\n",
            "Para el curso 6, el promedio es 7.75 y la varianza 2.41\n",
            "Para el curso 7, el promedio es 7.31 y la varianza 2.67\n",
            "Para el curso 8, el promedio es 7.60 y la varianza 2.68\n",
            "Para el curso 9, el promedio es 7.80 y la varianza 3.10\n",
            "Para el curso 10, el promedio es 7.45 y la varianza 2.85\n",
            "El promedio de los promedios es 7.55\n",
            "La desviación estándar de los promedios es 0.17\n"
          ]
        }
      ]
    }
  ]
}