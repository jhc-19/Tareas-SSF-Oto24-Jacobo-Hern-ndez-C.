{
  "nbformat": 4,
  "nbformat_minor": 0,
  "metadata": {
    "colab": {
      "provenance": [],
      "authorship_tag": "ABX9TyOiGowAwJgz9DYcapS3fJh2",
      "include_colab_link": true
    },
    "kernelspec": {
      "name": "python3",
      "display_name": "Python 3"
    },
    "language_info": {
      "name": "python"
    }
  },
  "cells": [
    {
      "cell_type": "markdown",
      "metadata": {
        "id": "view-in-github",
        "colab_type": "text"
      },
      "source": [
        "<a href=\"https://colab.research.google.com/github/jhc-19/Tareas-SSF-Oto24-Jacobo-Hern-ndez-C./blob/main/Tarea10%20Jacobo%20Hern%C3%A1ndez.ipynb\" target=\"_parent\"><img src=\"https://colab.research.google.com/assets/colab-badge.svg\" alt=\"Open In Colab\"/></a>"
      ]
    },
    {
      "cell_type": "code",
      "execution_count": null,
      "metadata": {
        "id": "FJ-FJA2ritxm"
      },
      "outputs": [],
      "source": [
        "##Tarea 10: Ex. 6.1.1; Use Monte Carlo integration to find the volume of a hemisphere of radius 1.We can use the symmetry of the problem to find the volume of one quarter (the positive {x, y, z} quarter) of the hemisphere, then multiply by 4 to get our final answer. For the known volume surrounding our unknown piece, let’s use the unit cube: x, y, and z range from 0–1. This range of values corresponds exactly to the evenly-distributed random numbers given by random.random()."
      ]
    },
    {
      "cell_type": "code",
      "source": [
        "from random import random\n",
        "from math import sqrt, pi\n",
        "import numpy as np\n",
        "\n",
        "# --- Sección 1: Calcular el volumen de una semiesfera usando el método de Monte Carlo ---\n",
        "\n",
        "# Número total de puntos aleatorios dentro del cubo unitario\n",
        "N = 1000000\n",
        "count = 0  # Contador de puntos dentro de la esfera\n",
        "\n",
        "# Generamos puntos aleatorios dentro del cubo unitario [0, 1]³\n",
        "for _ in range(N):\n",
        "    point = (random(), random(), random())  # Coordenadas aleatorias (x, y, z)\n",
        "    if sum(coord**2 for coord in point) < 1:  # Verificamos si el punto está dentro de la esfera unitaria\n",
        "        count += 1\n",
        "\n",
        "# Calculamos el volumen estimado de la semiesfera\n",
        "volumen_estimado = (count / N) * 4  # Factor de ajuste para el volumen de la semiesfera\n",
        "print(f\"El volumen estimado de una semiesfera de radio 1 es {volumen_estimado:.4f}\")\n",
        "\n",
        "# Calculamos la incertidumbre (error estándar) del resultado\n",
        "incertidumbre = 4 * sqrt(N) / N\n",
        "print(f\"Incertidumbre del resultado: {incertidumbre:.4f}\")\n",
        "\n",
        "# --- Sección 2: Calcular una integral usando el método de Monte Carlo ---\n",
        "\n",
        "# Definimos la función a integrar\n",
        "def f(x):\n",
        "    return np.sin(x)\n",
        "\n",
        "# Definimos los límites de integración\n",
        "a, b = 0, np.pi\n",
        "\n",
        "# Generamos puntos aleatorios en el intervalo [a, b]\n",
        "N = 1000000\n",
        "puntos_random = np.random.uniform(a, b, N)\n",
        "valores_funcion = f(puntos_random)  # Evaluamos la función en los puntos generados\n",
        "\n",
        "# Calculamos la integral mediante el método de Monte Carlo\n",
        "integral_mc = (b - a) * np.mean(valores_funcion)\n",
        "\n",
        "# Calculamos la incertidumbre de la integral\n",
        "incertidumbre_integral = (b - a) * np.std(valores_funcion) / sqrt(N)\n",
        "\n",
        "# Valor teórico de la integral ∫sin(x) dx en [0, π]\n",
        "valor_teorico = -np.cos(b) + np.cos(a)\n",
        "\n",
        "print(f\"Valor de Monte Carlo: {integral_mc:.6f} ± {incertidumbre_integral:.6f}\")\n",
        "print(f\"Valor teórico: {valor_teorico:.6f}\")\n",
        "\n",
        "# --- Sección 3: Estimar α en una 4-esfera usando el método de Monte Carlo ---\n",
        "\n",
        "# Número de puntos aleatorios en un hipercubo de 4 dimensiones [-1, 1]⁴\n",
        "N = 1000000\n",
        "puntos = np.random.uniform(-1, 1, (N, 4))  # Puntos en un espacio de 4 dimensiones\n",
        "\n",
        "# Calculamos la distancia de cada punto al origen (0, 0, 0, 0)\n",
        "distancias = np.sum(puntos**2, axis=1)\n",
        "\n",
        "# Contamos los puntos que caen dentro de la 4-esfera unitaria\n",
        "puntos_dentro = np.sum(distancias <= 1)\n",
        "\n",
        "# Estimamos el volumen de la 4-esfera\n",
        "volumen_estimado_4esfera = (puntos_dentro / N) * 16  # El volumen del hipercubo de lado 2 es 16 (2⁴)\n",
        "\n",
        "# Calculamos α usando la relación V_4 = α * π²\n",
        "alpha = volumen_estimado_4esfera / (pi**2)\n",
        "print(f\"El valor estimado de α es: {alpha:.6f}\")\n"
      ],
      "metadata": {
        "colab": {
          "base_uri": "https://localhost:8080/"
        },
        "id": "lbbqTNA8i9q6",
        "outputId": "20ac80d8-605c-4bac-96e0-8611d3466c46"
      },
      "execution_count": 4,
      "outputs": [
        {
          "output_type": "stream",
          "name": "stdout",
          "text": [
            "El volumen estimado de una semiesfera de radio 1 es 2.0969\n",
            "Incertidumbre del resultado: 0.0040\n",
            "Valor de Monte Carlo: 2.000193 ± 0.000967\n",
            "Valor teórico: 2.000000\n",
            "El valor estimado de α es: 0.499612\n"
          ]
        }
      ]
    }
  ]
}